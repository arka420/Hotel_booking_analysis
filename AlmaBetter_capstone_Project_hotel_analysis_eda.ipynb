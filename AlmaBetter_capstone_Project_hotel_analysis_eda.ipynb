{
  "nbformat": 4,
  "nbformat_minor": 0,
  "metadata": {
    "colab": {
      "private_outputs": true,
      "provenance": [],
      "collapsed_sections": [
        "mDgbUHAGgjLW",
        "7hBIi_osiCS2",
        "PoPl-ycgm1ru",
        "u3PMJOP6ngxN",
        "dauF4eBmngu3",
        "bKJF3rekwFvQ"
      ],
      "include_colab_link": true
    },
    "kernelspec": {
      "name": "python3",
      "display_name": "Python 3"
    },
    "language_info": {
      "name": "python"
    }
  },
  "cells": [
    {
      "cell_type": "markdown",
      "metadata": {
        "id": "view-in-github",
        "colab_type": "text"
      },
      "source": [
        "<a href=\"https://colab.research.google.com/github/arka420/Hotel_booking_analysis/blob/main/AlmaBetter_capstone_Project_hotel_analysis_eda.ipynb\" target=\"_parent\"><img src=\"https://colab.research.google.com/assets/colab-badge.svg\" alt=\"Open In Colab\"/></a>"
      ]
    },
    {
      "cell_type": "markdown",
      "source": [
        "# **Project Name**    - Hotel Booking Analysis\n",
        "\n"
      ],
      "metadata": {
        "id": "vncDsAP0Gaoa"
      }
    },
    {
      "cell_type": "markdown",
      "source": [
        "##### **Project Type**    - EDA\n",
        "##### **Contribution**    - Team\n",
        "**Team Name** - CodeX\n",
        "##### **Team Member 1 -** Kaushik Dey\n",
        "##### **Team Member 2 -** Arkadyuti Dhara\n"
      ],
      "metadata": {
        "id": "beRrZCGUAJYm"
      }
    },
    {
      "cell_type": "markdown",
      "source": [
        "# **Project Summary -**"
      ],
      "metadata": {
        "id": "FJNUwmbgGyua"
      }
    },
    {
      "cell_type": "markdown",
      "source": [
        "Hotel business is a lucrative yet very volatile business segment. It’s dependent on multiple criteria like type of hotel, business seasons, customer segments, multiple modes of booking, amenities, services and many more. Over the past couple of decades, it saw a massive surge in terms of profit, but then global pandemic hit worldwide and almost all industry sectors observed a deprivation in their business with ‘Hotel’ sector taking a major blow. This has made many entrepreneurs and business leaders realize how important it is to be strategic and leverage data analysis for making intelligent business decisions, thereby penetrating the market deep and gain more marketshares.\n",
        "\n",
        "By applying Exploratory Data Analysis principles and feature engineering, this study aims to explore merits of analysis on Hotels dataset that governs bookings and can help in increasing customer base. Secondary objective is to help the customers in deciding the best period to visit places while availing low accommodation cost benefits. In this project we were provided dataset containing booking information about two types of hotel and various other related booking criteria.\n",
        "\n",
        "First step of approach involved Data Exploration and Inspection over the raw data. Second step involved Data Cleaning by handling null values, dropping irrelevant columns and rows, parsing date in string to Datetime format and adding new feature columns that can help in better decision support. Final step involved performing a comprehensive data analysis over clean data to analyze the factors that affect hotel bookings and creating Data Visualization for the same. These factors can further helps in drawing booking, pricing and other correlated trends which can further aid in predicting business at high level.\n",
        "\n",
        "EDA will be divided into following 3 analysis:\n",
        "\n",
        "1. Univariate analysis: Univariate analysis is the simplest of the three analyses where the data, you are analyzing is only one variable.\n",
        "2. Bivariate analysis: Bivariate analysis is where you are comparing two variables to study their relationships.\n",
        "3. Multivariate analysis: Multivariate analysis is similar to Bivariate analysis but you are comparing more than two variables."
      ],
      "metadata": {
        "id": "F6v_1wHtG2nS"
      }
    },
    {
      "cell_type": "markdown",
      "source": [
        "# **GitHub Link -** "
      ],
      "metadata": {
        "id": "w6K7xa23Elo4"
      }
    },
    {
      "cell_type": "markdown",
      "source": [
        "[link text](https://github.com/arka420/Hotel_booking_analysis.git)"
      ],
      "metadata": {
        "id": "h1o69JH3Eqqn"
      }
    },
    {
      "cell_type": "markdown",
      "source": [
        "# **Problem Statement**\n"
      ],
      "metadata": {
        "id": "yQaldy8SH6Dl"
      }
    },
    {
      "cell_type": "markdown",
      "source": [
        "The problem statement for the 'Hotel booking Analysis' capstone project is to perform exploratory data analysis on a dataset containing booking information for two different types of hotels: city hotel and resort hotel. The aim of this analysis is to identify important features that can affect hotel bookings and help hotel businesses make intelligent decisions to penetrate the market and gain more market share. Additionally, the project seeks to help customers in deciding the best period to visit places while availing low accommodation cost benefits. The analysis will involve data exploration, data cleaning, and comprehensive data analysis to analyze the factors that influence hotel bookings and create data visualizations to identify booking and pricing trends. The project will be divided into three different types of analysis, namely univariate analysis, bivariate analysis, and multivariate analysis. Overall, the project's objective is to provide insights that will help the hotel industry make informed decisions to improve their business performance and customer satisfaction."
      ],
      "metadata": {
        "id": "DpeJGUA3kjGy"
      }
    },
    {
      "cell_type": "markdown",
      "source": [
        "#### **Define Your Business Objective?**"
      ],
      "metadata": {
        "id": "PH-0ReGfmX4f"
      }
    },
    {
      "cell_type": "markdown",
      "source": [
        "The dataset includes booking information for two hotels - City Hotel and Resort Hotel - containing various criteria such as booking season, time, length of stay, number of guests, parking, pricing, and market segment. The main goal is to conduct Exploratory Data Analysis to explore and scrutinize the dataset and identify significant features that can enhance bookings and help hotels penetrate the market to attract more customers. By analyzing booking and pricing trends, important insights can be derived to make intelligent business decisions. Additionally, the secondary objective is to assist customers in determining the best time to visit a place to obtain low accommodation costs."
      ],
      "metadata": {
        "id": "PhDvGCAqmjP1"
      }
    },
    {
      "cell_type": "markdown",
      "source": [
        "# **General Guidelines** : -  "
      ],
      "metadata": {
        "id": "mDgbUHAGgjLW"
      }
    },
    {
      "cell_type": "markdown",
      "source": [
        "1.   Well-structured, formatted, and commented code is required. \n",
        "2.   Exception Handling, Production Grade Code & Deployment Ready Code will be a plus. Those students will be awarded some additional credits. \n",
        "     \n",
        "     The additional credits will have advantages over other students during Star Student selection.\n",
        "       \n",
        "             [ Note: - Deployment Ready Code is defined as, the whole .ipynb notebook should be executable in one go\n",
        "                       without a single error logged. ]\n",
        "\n",
        "3.   Each and every logic should have proper comments.\n",
        "4. You may add as many number of charts you want. Make Sure for each and every chart the following format should be answered.\n",
        "        \n",
        "\n",
        "```\n",
        "# Chart visualization code\n",
        "```\n",
        "            \n",
        "\n",
        "*   Why did you pick the specific chart?\n",
        "*   What is/are the insight(s) found from the chart?\n",
        "* Will the gained insights help creating a positive business impact? \n",
        "Are there any insights that lead to negative growth? Justify with specific reason.\n",
        "\n",
        "5. You have to create at least 20 logical & meaningful charts having important insights.\n",
        "\n",
        "\n",
        "[ Hints : - Do the Vizualization in  a structured way while following \"UBM\" Rule. \n",
        "\n",
        "U - Univariate Analysis,\n",
        "\n",
        "B - Bivariate Analysis (Numerical - Categorical, Numerical - Numerical, Categorical - Categorical)\n",
        "\n",
        "M - Multivariate Analysis\n",
        " ]\n",
        "\n",
        "\n",
        "\n"
      ],
      "metadata": {
        "id": "ZrxVaUj-hHfC"
      }
    },
    {
      "cell_type": "markdown",
      "source": [
        "# ***Let's Begin !***"
      ],
      "metadata": {
        "id": "O_i_v8NEhb9l"
      }
    },
    {
      "cell_type": "markdown",
      "source": [
        "### Import Libraries\n"
      ],
      "metadata": {
        "id": "Y3lxredqlCYt"
      }
    },
    {
      "cell_type": "code",
      "source": [
        "import pandas as pd\n",
        "import numpy as np\n",
        "import matplotlib.pyplot as plt\n",
        "%matplotlib inline\n",
        "import seaborn as sns\n",
        "from datetime import datetime\n",
        "import folium\n",
        "import plotly.express as px\n",
        "import plotly.offline as pyo\n",
        "import plotly.graph_objs as go\n",
        "import plotly.io as pio"
      ],
      "metadata": {
        "id": "1NOyO5qSWl40"
      },
      "execution_count": null,
      "outputs": []
    },
    {
      "cell_type": "markdown",
      "source": [
        "### Dataset Loading"
      ],
      "metadata": {
        "id": "3RnN4peoiCZX"
      }
    },
    {
      "cell_type": "code",
      "source": [
        "from google.colab import drive\n",
        "drive.mount('/content/drive')"
      ],
      "metadata": {
        "id": "T6hZfAUpaXLa"
      },
      "execution_count": null,
      "outputs": []
    },
    {
      "cell_type": "code",
      "source": [
        "# csv file location\n",
        "csv_file = ('/content/drive/MyDrive/AlmaBetter/HotelBooking EDA/Dataset/Hotel Bookings.csv')\n",
        "# Reading the data set\n",
        "data_set = pd.read_csv(csv_file)\n",
        "\n",
        "# Creating a copy of data set\n",
        "data = data_set.copy()"
      ],
      "metadata": {
        "id": "-C1QsFH4jbl2"
      },
      "execution_count": null,
      "outputs": []
    },
    {
      "cell_type": "markdown",
      "source": [
        "**Dataset First View** \n",
        "\n",
        "     "
      ],
      "metadata": {
        "id": "FD5ifJV8kMy8"
      }
    },
    {
      "cell_type": "code",
      "source": [
        "# Checking the first 5 rows of data\n",
        "data.head()\n",
        "     "
      ],
      "metadata": {
        "id": "I9L3XkCjkgtw"
      },
      "execution_count": null,
      "outputs": []
    },
    {
      "cell_type": "code",
      "source": [
        "# Checking the bottom 5 rows of the data \n",
        "data.tail()"
      ],
      "metadata": {
        "id": "AhOw7zOKkuVF"
      },
      "execution_count": null,
      "outputs": []
    },
    {
      "cell_type": "markdown",
      "source": [
        "### Dataset Rows & Columns count"
      ],
      "metadata": {
        "id": "7hBIi_osiCS2"
      }
    },
    {
      "cell_type": "code",
      "source": [
        "# Dataset Rows & Columns count\n",
        "print(f'We have {data.shape[0]} of rows and {data.shape[1]} columns.')"
      ],
      "metadata": {
        "id": "Kllu7SJgmLij"
      },
      "execution_count": null,
      "outputs": []
    },
    {
      "cell_type": "markdown",
      "source": [
        "### Dataset Information"
      ],
      "metadata": {
        "id": "JlHwYmJAmNHm"
      }
    },
    {
      "cell_type": "code",
      "source": [
        "# Dataset Info\n",
        "#Data information. Inspecting each columns and its dtype\n",
        "data.info()\n"
      ],
      "metadata": {
        "id": "e9hRXRi6meOf"
      },
      "execution_count": null,
      "outputs": []
    },
    {
      "cell_type": "code",
      "source": [
        "# Dataset Duplicate Value Count\n",
        "data.duplicated().value_counts()    #True means duplicate rows\n"
      ],
      "metadata": {
        "id": "1sLdpKYkmox0"
      },
      "execution_count": null,
      "outputs": []
    },
    {
      "cell_type": "code",
      "source": [
        "# Visualizing through Count Plot\n",
        "plt.figure(figsize=(10,8))\n",
        "sns.countplot(x=data.duplicated())\n"
      ],
      "metadata": {
        "id": "TywterBjlxBv"
      },
      "execution_count": null,
      "outputs": []
    },
    {
      "cell_type": "code",
      "source": [
        "# Dropping the duplicate rows\n",
        "data = data.drop_duplicates()\n",
        "data.duplicated().value_counts()"
      ],
      "metadata": {
        "id": "Ybu2lyaXl3sJ"
      },
      "execution_count": null,
      "outputs": []
    },
    {
      "cell_type": "code",
      "source": [
        "# Dataset reduced\n",
        "data.shape"
      ],
      "metadata": {
        "id": "7M2wm89hl8Ph"
      },
      "execution_count": null,
      "outputs": []
    },
    {
      "cell_type": "markdown",
      "source": [
        "#### Missing Values/Null Values"
      ],
      "metadata": {
        "id": "PoPl-ycgm1ru"
      }
    },
    {
      "cell_type": "code",
      "source": [
        "# Missing Values/Null Values Count\n",
        "missing_values = pd.DataFrame({'missing Values' : data.isna().sum(), 'Percentage missing Values' : (data.isna().sum()) / (data.shape[0]) * (100)})\n",
        "missing_values"
      ],
      "metadata": {
        "id": "GgHWkxvamxVg"
      },
      "execution_count": null,
      "outputs": []
    },
    {
      "cell_type": "code",
      "source": [
        "#rows only with missing values\n",
        "rows_with_missing_values = missing_values[missing_values['missing Values'] > 0]\n",
        "print(rows_with_missing_values)"
      ],
      "metadata": {
        "id": "EQDTM6871Afg"
      },
      "execution_count": null,
      "outputs": []
    },
    {
      "cell_type": "code",
      "source": [
        "# Create a bar chart of the percentage of missing values\n",
        "bar_chart = go.Bar(x=rows_with_missing_values.index,\n",
        "                   y=rows_with_missing_values['Percentage missing Values'],\n",
        "                   name='Percentage Missing Values',\n",
        "                   marker=dict(color='brown'))\n",
        "\n",
        "# Set the title and axis labels\n",
        "layout = go.Layout(title='Missing Values Bar Chart',\n",
        "                   xaxis=dict(title='Features'),\n",
        "                   yaxis=dict(title='Percentage Missing Values'))\n",
        "\n",
        "# Create the figure and plot the bar chart\n",
        "fig = go.Figure(data=[bar_chart], layout=layout)\n",
        "fig.show()\n",
        "\n",
        "pio.write_html(fig, file='missing_values_chart.html', auto_open=True, include_plotlyjs='cdn')"
      ],
      "metadata": {
        "id": "4eNYesz0DPLk"
      },
      "execution_count": null,
      "outputs": []
    },
    {
      "cell_type": "markdown",
      "source": [
        "So we have null values in columns - company, agent, country and children.\n",
        "\n",
        "A) For company I will drop the column because it contains 94% null data.\n",
        "\n",
        "B) For agent I will fill the null values with 0 assuming those rooms were booked without any agents.\n",
        "\n",
        "C) For country I will fill the null values with object 'Others', assuming tourist belong to country other than available list.\n",
        "\n",
        "D) For children, I will fill the null values with 0, assuming 0 children in that family."
      ],
      "metadata": {
        "id": "poyW_c-8HJSf"
      }
    },
    {
      "cell_type": "markdown",
      "source": [
        "## ***2. Understanding Your Variables***"
      ],
      "metadata": {
        "id": "nA9Y7ga8ng1Z"
      }
    },
    {
      "cell_type": "code",
      "source": [
        "# Dataset Columns]\n",
        "print(list(data.columns))\n",
        "     \n",
        "     "
      ],
      "metadata": {
        "id": "j7xfkqrt5Ag5"
      },
      "execution_count": null,
      "outputs": []
    },
    {
      "cell_type": "code",
      "source": [
        "# Dataset Describe\n",
        "data.describe()"
      ],
      "metadata": {
        "id": "DnOaZdaE5Q5t"
      },
      "execution_count": null,
      "outputs": []
    },
    {
      "cell_type": "markdown",
      "source": [
        "Descriptive Statistics: it provides statistical summary metrics for each numerical column, such as count, mean, standard deviation, minimum value, quartiles (25%, 50%, 75%), and maximum value. These metrics give an overview of the central tendency, dispersion, and range of the data.\n",
        "\n",
        " hotel booking analysis project, we can gain a comprehensive summary of the numerical data and extract valuable insights to guide further analysis, data preprocessing, or modeling tasks."
      ],
      "metadata": {
        "id": "44hA9U8stwmU"
      }
    },
    {
      "cell_type": "markdown",
      "source": [
        "### Variables Description "
      ],
      "metadata": {
        "id": "PBTbrJXOngz2"
      }
    },
    {
      "cell_type": "markdown",
      "source": [
        "1)**Hotel** - Hotel (H1 = Resort Hotel or H2 = City Hotel)\n",
        "\n",
        "2)**is_canceled** - Value indicating if the booking was canceled (1) or not (0)\n",
        "\n",
        "3)**lead_time** - Number of days that elapsed between the entering date of the booking into the PMS and the arrival date\n",
        "\n",
        "4)**arrival_date_year** - Year of arrival date\n",
        "\n",
        "5)**arrival_date_month** - Month of arrival date\n",
        "\n",
        "6)**arrival_date_week_number** - Week number of year for arrival date\n",
        "\n",
        "7)**arrival_date_day_of_month** - Day of arrival date\n",
        "\n",
        "8)**stays_in_weekend_nights** - Number of weekend nights (Saturday or Sunday) the guest stayed or booked to stay at the hotel\n",
        "\n",
        "9)**stays_in_week_nights** - Number of week nights (Monday to Friday) the guest stayed or booked to stay at the hotel\n",
        "\n",
        "10)**adults** - Number of adults\n",
        "\n",
        "11)**children** - Number of children\n",
        "\n",
        "12)**babies** - Number of babies\n",
        "\n",
        "13)**meal** - Type of meal booked. Categories are presented in standard hospitality meal packages: Undefined/SC – no meal package; BB – Bed & Breakfast; HB – Half board (breakfast and one other meal – usually dinner); FB – Full board (breakfast, lunch and dinner)\n",
        "\n",
        "14)**country** - Country of origin. Categories are represented in the ISO 3155–3:2013 format\n",
        "\n",
        "15)**market_segment** - Market segment designation. In categories, the term “TA” means “Travel Agents” and “TO” means “Tour Operators”\n",
        "\n",
        "16)**distribution_channel** - Booking distribution channel. The term “TA” means “Travel Agents” and “TO” means “Tour Operators”\n",
        "\n",
        "17)**is_repeated_guest** - Value indicating if the booking name was from a repeated guest (1) or not (0)\n",
        "\n",
        "18)**previous_cancellations** - Number of previous bookings that were cancelled by the customer prior to the current booking\n",
        "\n",
        "19)**previous_bookings_not_canceled** - Number of previous bookings not cancelled by the customer prior to the current booking\n",
        "\n",
        "20)**reserved_room_type** - Code of room type reserved. Code is presented instead of designation for anonymity reasons.\n",
        "\n",
        "21)**assigned_room_type** - Code for the type of room assigned to the booking. Sometimes the assigned room type differs from the reserved room type due to hotel operation reasons (e.g. overbooking) or by customer request. Code is presented instead of designation for anonymity reasons.\n",
        "\n",
        "22)**booking_changes** - Number of changes/amendments made to the booking from the moment the booking was entered on the PMS until the moment of check-in or cancellation\n",
        "\n",
        "23)**deposit_type** - Indication on if the customer made a deposit to guarantee the booking. This variable can assume three categories: No Deposit – no deposit was made; Non Refund – a deposit was made in the value of the total stay cost; Refundable – a deposit was made with a value under the total cost of stay.\n",
        "\n",
        "24)**agent** - ID of the travel agency that made the booking\n",
        "\n",
        "25)**company** - ID of the company/entity that made the booking or responsible for paying the booking. ID is presented instead of designation for anonymity reasons\n",
        "\n",
        "26)**days_in_waiting_list** - Number of days the booking was in the waiting list before it was confirmed to the customer\n",
        "\n",
        "27)**customer_type** - Type of booking, assuming one of four categories: Contract - when the booking has an allotment or other type of contract associated to it; Group – when the booking is associated to a group; Transient – when the booking is not part of a group or contract, and is not associated to other transient booking; Transient-party – when the booking is transient, but is associated to at least other transient booking\n",
        "\n",
        "28)**adr** - Average Daily Rate as defined by dividing the sum of all lodging transactions by the total number of staying nights\n",
        "\n",
        "29)**required_car_parking_spaces** - Number of car parking spaces required by the customer\n",
        "\n",
        "30)**total_of_special_requests** - Number of special requests made by the customer (e.g. twin bed or high floor)\n",
        "\n",
        "31)**reservation_status** - Reservation last status, assuming one of three categories: Canceled – booking was canceled by the customer; Check-Out – customer has checked in but already departed; No-Show – customer did not check-in and did inform the hotel of the reason why\n",
        "\n",
        "32)**reservation_status_date** - Date at which the last status was set. This variable can be used in conjunction with the ReservationStatus to understand when was the booking canceled or when did the customer checked-out of the hotel"
      ],
      "metadata": {
        "id": "dkPcMuBQDK69"
      }
    },
    {
      "cell_type": "markdown",
      "source": [
        "### Check Unique Values for each variable."
      ],
      "metadata": {
        "id": "u3PMJOP6ngxN"
      }
    },
    {
      "cell_type": "code",
      "source": [
        "# Check Unique Values for each variable.\n",
        "print(data.apply(lambda col:col.unique()))"
      ],
      "metadata": {
        "id": "zms12Yq5n-jE"
      },
      "execution_count": null,
      "outputs": []
    },
    {
      "cell_type": "markdown",
      "source": [
        "## 3. ***Data Wrangling***"
      ],
      "metadata": {
        "id": "dauF4eBmngu3"
      }
    },
    {
      "cell_type": "markdown",
      "source": [
        "### Data Wrangling Code"
      ],
      "metadata": {
        "id": "bKJF3rekwFvQ"
      }
    },
    {
      "cell_type": "code",
      "source": [
        "# Write your code to make your dataset analysis ready.\n",
        "# Filling null values in agent with 0 assuming those rooms were booked without any agents\n",
        "data[\"agent\"].fillna(0,inplace=True)\n",
        "\n",
        "# Filling null values in children with 0 assuming 0 children in that family\n",
        "data[\"children\"].fillna(0,inplace=True)\n",
        "\n",
        "# Filling null values in Country with 'Other' category assuming tourist belong to country other than available list\n",
        "data[\"country\"].fillna('other',inplace = True)"
      ],
      "metadata": {
        "id": "wk-9a2fpoLcV"
      },
      "execution_count": null,
      "outputs": []
    },
    {
      "cell_type": "code",
      "source": [
        "# Droping company column because it contains 94% null data\n",
        "data.drop(['company'], axis=1, inplace=True)\n",
        "\n",
        "# Droping rows where there is no data on adults, children, babies combined\n",
        "no_guest=data[data['adults']+data['babies']+data['children']==0]\n",
        "data.drop(no_guest.index, inplace=True)"
      ],
      "metadata": {
        "id": "Ncm65w4zWInt"
      },
      "execution_count": null,
      "outputs": []
    },
    {
      "cell_type": "code",
      "source": [
        "# Checking the null values\n",
        "data.isna().sum().sort_values(ascending=False)[:5]"
      ],
      "metadata": {
        "id": "3fllwrqDivhd"
      },
      "execution_count": null,
      "outputs": []
    },
    {
      "cell_type": "code",
      "source": [
        "#Parsing reservation_status date into datetime\n",
        "data['reservation_status_date'] = pd.to_datetime(data['reservation_status_date'], format = '%Y-%m-%d')\n"
      ],
      "metadata": {
        "id": "Qt4mZ769i8TF"
      },
      "execution_count": null,
      "outputs": []
    },
    {
      "cell_type": "markdown",
      "source": [
        "**Adding new columns of Arrival month, Total People and Total Stay**"
      ],
      "metadata": {
        "id": "MSa1f5Uengrz"
      }
    },
    {
      "cell_type": "code",
      "source": [
        "# Parsing arrival_date_month into datetime and adding a new column with parsed month number\n",
        "data['arrival_month'] = data['arrival_date_month'].apply(lambda x : datetime.strptime(x,'%B'))\n",
        "data['arrival_month'] = data['arrival_month'].apply(lambda x : x.month)           #Will be used for sorting columns months wise"
      ],
      "metadata": {
        "id": "d_ZnUTr7jq9b"
      },
      "execution_count": null,
      "outputs": []
    },
    {
      "cell_type": "code",
      "source": [
        "# Add a new column to represent the day of the week for each arrival date\n",
        "data['arrival_day'] = data['arrival_month'].apply(lambda x: pd.to_datetime(x).day_name())\n",
        "\n"
      ],
      "metadata": {
        "id": "LlUzPVJyy3A2"
      },
      "execution_count": null,
      "outputs": []
    },
    {
      "cell_type": "code",
      "source": [
        "# Adding new column \"total_people\" by adding columns values of 'adults', 'children' and 'babies'\n",
        "data['total_people'] = data['adults'] + data['children'] + data ['babies']\n",
        "#Adding new column as Kids by adding two columns children and babies\n",
        "data['kids']=data['children']+data['babies']\n",
        "\n",
        "# Adding new column 'total_stay' by adding columns values of 'stays_in_weekend_nights' and 'stays_in_week_nights'\n",
        "data['total_stay'] = data ['stays_in_weekend_nights'] + data ['stays_in_week_nights']\n",
        "\n",
        "     "
      ],
      "metadata": {
        "id": "X2BtoSxqjwvz"
      },
      "execution_count": null,
      "outputs": []
    },
    {
      "cell_type": "code",
      "source": [
        "data.info()"
      ],
      "metadata": {
        "id": "6YPJ2IP-kJiD"
      },
      "execution_count": null,
      "outputs": []
    },
    {
      "cell_type": "code",
      "source": [
        "data.head()"
      ],
      "metadata": {
        "id": "0SqS34o9kM8v"
      },
      "execution_count": null,
      "outputs": []
    },
    {
      "cell_type": "code",
      "source": [
        "data.shape"
      ],
      "metadata": {
        "id": "a37sUnjpkRXe"
      },
      "execution_count": null,
      "outputs": []
    },
    {
      "cell_type": "markdown",
      "source": [
        "Check Unique Values for each variable."
      ],
      "metadata": {
        "id": "K8EFs-jgoFfz"
      }
    },
    {
      "cell_type": "code",
      "source": [
        "#Removing the datetime datatype and unique country data \n",
        "categorical_cols=list(set(data.drop(columns=['reservation_status_date','country','arrival_date_month','arrival_date_day_of_month', 'arrival_date_year']).columns)- set(data.describe()))\n",
        "\n",
        "#Runing the for loop to know the unique values for data analysis\n",
        "for col in categorical_cols:\n",
        "  print(f'Unique values in column {col} are:, {(data[col].unique())}')"
      ],
      "metadata": {
        "id": "mMbgoZcDoXPK"
      },
      "execution_count": null,
      "outputs": []
    },
    {
      "cell_type": "markdown",
      "source": [
        "## ***4. Data Vizualization, Storytelling & Experimenting with charts : Understand the relationships between variables***"
      ],
      "metadata": {
        "id": "GF8Ens_Soomf"
      }
    },
    {
      "cell_type": "markdown",
      "source": [
        "**EDA(Exploratory Data Analysis)**"
      ],
      "metadata": {
        "id": "0wOQAZs5pc--"
      }
    },
    {
      "cell_type": "markdown",
      "source": [
        "**Chart - 1 | Which type of hotel is mostly preferred by the guests?**"
      ],
      "metadata": {
        "id": "YwG-OcVho3VI"
      }
    },
    {
      "cell_type": "code",
      "source": [
        "# Chart - 1 visualization code\n",
        "#Fetching unique hotel count\n",
        "booking_df = data['hotel'].value_counts()\n",
        "booking_df\n"
      ],
      "metadata": {
        "id": "a-5u7ZivbWMO"
      },
      "execution_count": null,
      "outputs": []
    },
    {
      "cell_type": "code",
      "source": [
        "# Plotting pie chart of unique Hotel booking %\n",
        "x_axis = booking_df.plot.pie(figsize=(8,5),fontsize=20, autopct='%5.1f%%',shadow=True, explode=[0.05,0.05])\n",
        "\n",
        "x_axis.set_title('Booking percentage in each Hotel',fontsize=19)\n",
        "plt.show()"
      ],
      "metadata": {
        "id": "wflzF5DteJzu"
      },
      "execution_count": null,
      "outputs": []
    },
    {
      "cell_type": "markdown",
      "source": [
        "**1. Why did you pick the specific chart?**\n",
        "\n",
        "Pie charts typically show relative proportions of different categories in a data set.\n",
        "\n",
        "**2. What is/are the insight(s) found from the chart?**\n",
        "\n",
        "Majority of the guest prefer City Hotel over Resort Hotel.\n",
        "\n",
        "\n",
        "**3. Will the gained insights help creating a positive business impact?**\n",
        "\n",
        "Yes, because it will help business owners in deciding on which hotel type to invest their money in to gain maximum financial leverage."
      ],
      "metadata": {
        "id": "XESiWehPqBRc"
      }
    },
    {
      "cell_type": "markdown",
      "source": [
        "**Chart - 2 | From which country most guests are coming**"
      ],
      "metadata": {
        "id": "KSlN3yHqYklG"
      }
    },
    {
      "cell_type": "code",
      "source": [
        "# Chart - 2 visualization code\n",
        "# Counting the guests from various countries.\n",
        "country_data = data['country'].value_counts().reset_index().rename(columns={'index': 'country','country': 'count of guests'})[:10]\n",
        "\n",
        "\n",
        "# Visualizing by plotting the graph\n",
        "plt.figure(figsize=(10,8))\n",
        "sns.barplot(x=country_data['country'],y=country_data['count of guests'])\n",
        "plt.xlabel('Country',fontsize=20)\n",
        "plt.ylabel('Number of guests',fontsize=20)\n",
        "plt.title(\"Number of guests from diffrent Countries\",fontsize=20)\n",
        "plt.show()\n",
        "\n"
      ],
      "metadata": {
        "id": "R4YgtaqtYklH"
      },
      "execution_count": null,
      "outputs": []
    },
    {
      "cell_type": "markdown",
      "source": [
        "**Abbreviations for countries**\n",
        "\n",
        "PRT- Portugal\n",
        "\n",
        "GBR- United Kingdom\n",
        "\n",
        "FRA- France\n",
        "\n",
        "ESP- Spain\n",
        "\n",
        "DEU - Germany\n",
        "\n",
        "ITA -Itlay\n",
        "\n",
        "IRL - Ireland\n",
        "\n",
        "BEL -Belgium\n",
        "\n",
        "BRA -Brazil\n",
        "\n",
        "NLD-Netherlands\n"
      ],
      "metadata": {
        "id": "iJVfyfngpzMv"
      }
    },
    {
      "cell_type": "code",
      "source": [
        "country_data = px.choropleth(country_data, locations = country_data['country'],color = country_data['count of guests'], hover_name = country_data['country'])\n",
        "country_data .show()"
      ],
      "metadata": {
        "id": "kZhUPr1ZRa6I"
      },
      "execution_count": null,
      "outputs": []
    },
    {
      "cell_type": "markdown",
      "source": [
        "**1. Why did you pick the specific chart?**"
      ],
      "metadata": {
        "id": "t6dVpIINYklI"
      }
    },
    {
      "cell_type": "markdown",
      "source": [
        "A bar plot shows catergorical data as rectangular bars with the height of bars proportional to the value they represent. It is often used to compare between values of different categories in the data."
      ],
      "metadata": {
        "id": "5aaW0BYyYklI"
      }
    },
    {
      "cell_type": "markdown",
      "source": [
        "**2. What is/are the insight(s) found from the chart?**"
      ],
      "metadata": {
        "id": "ijmpgYnKYklI"
      }
    },
    {
      "cell_type": "markdown",
      "source": [
        "From plotted bar plot, its evident that most of guest visiting these City hotels and Resort hotels are from Portugal and other European countries namely Britain, France, Spain and Germany. Among which Portugal takes the lion's share with more than 25000 customers."
      ],
      "metadata": {
        "id": "PSx9atu2YklI"
      }
    },
    {
      "cell_type": "markdown",
      "source": [
        "3. Will the gained insights help creating a positive business impact? \n",
        "Are there any insights that lead to negative growth? Justify with specific reason. "
      ],
      "metadata": {
        "id": "-JiQyfWJYklI"
      }
    },
    {
      "cell_type": "markdown",
      "source": [
        "Are there any insights that lead to negative growth? Justify with specific reason.\n",
        "\n",
        "Yes, because now the hotel owners can try to understand the reason as to why majority of the customers are from Portugal. The countries where the number is low, whether it's competitor is providing better services there. Since Portugal is occupying a major chunk of the chart, The business owner may now do targeted marketing by applying the 80:20 rule to maximize their profits."
      ],
      "metadata": {
        "id": "BcBbebzrYklV"
      }
    },
    {
      "cell_type": "markdown",
      "source": [
        "**Chart - 3  Which is the most preferred room type by the customers?**"
      ],
      "metadata": {
        "id": "EM7whBJCYoAo"
      }
    },
    {
      "cell_type": "code",
      "source": [
        "# Chart - 3 visualization code\n",
        "# Setting plotsize\n",
        "plt.figure(figsize=(14,6))\n",
        "\n",
        "# Plotting \n",
        "sns.countplot(x=data['assigned_room_type'],order=data['assigned_room_type'].value_counts().index)\n",
        "#  setting xlabel for the plot\n",
        "plt.xlabel('Room Type',fontsize=20)\n",
        "# setting y label for the plot\n",
        "plt.ylabel('Count of Room Type',fontsize=20)\n",
        "# setting title for the plot\n",
        "plt.title(\"Most preferred Room type\",fontsize=25)"
      ],
      "metadata": {
        "id": "t6GMdE67YoAp"
      },
      "execution_count": null,
      "outputs": []
    },
    {
      "cell_type": "markdown",
      "source": [
        "##### 1. Why did you pick the specific chart?"
      ],
      "metadata": {
        "id": "fge-S5ZAYoAp"
      }
    },
    {
      "cell_type": "markdown",
      "source": [
        "Show the counts of observations in each categorical bin using bars."
      ],
      "metadata": {
        "id": "5dBItgRVYoAp"
      }
    },
    {
      "cell_type": "markdown",
      "source": [
        "##### 2. What is/are the insight(s) found from the chart?"
      ],
      "metadata": {
        "id": "85gYPyotYoAp"
      }
    },
    {
      "cell_type": "markdown",
      "source": [
        "Most demanded room type is A, followed by D and E."
      ],
      "metadata": {
        "id": "4jstXR6OYoAp"
      }
    },
    {
      "cell_type": "markdown",
      "source": [
        "##### 3. Will the gained insights help creating a positive business impact? "
      ],
      "metadata": {
        "id": "RoGjAbkUYoAp"
      }
    },
    {
      "cell_type": "markdown",
      "source": [
        "From this graph hoteliers understand the preferences of their guests.It indicates which room types are in high demand, that helps hoteliers to optimize their inventory and pricing strategy accordingly and furthermore they can focus on promoting and enhancing the features of these room types to attract more booking that potencially leads to higher revenue generation.\n",
        "\n",
        "Hotels should increase the no. of room types A to maximise revenue."
      ],
      "metadata": {
        "id": "zfJ8IqMcYoAp"
      }
    },
    {
      "cell_type": "markdown",
      "source": [
        "**Chart - 4 Which type of food is mostly preferred by the guests?**"
      ],
      "metadata": {
        "id": "4Of9eVA-YrdM"
      }
    },
    {
      "cell_type": "code",
      "source": [
        "# Chart - 4 visualization code\n",
        "# Plotting the chart of preferred meal type\n",
        "plt.figure(figsize=(12,6))\n",
        "sns.countplot(x=data['meal'])\n",
        "plt.xlabel('Meal Type',fontsize=10)\n",
        "plt.ylabel('Count',fontsize=10)\n",
        "plt.title(\"Preferred Meal Type\",fontsize=15)\n"
      ],
      "metadata": {
        "id": "irlUoxc8YrdO"
      },
      "execution_count": null,
      "outputs": []
    },
    {
      "cell_type": "markdown",
      "source": [
        "Types of meal in hotels:\n",
        "\n",
        "BB - (Bed and Breakfast)\n",
        "\n",
        "HB- (Half Board)\n",
        "\n",
        "FB- (Full Board)\n",
        "\n",
        "SC- (Self Catering)"
      ],
      "metadata": {
        "id": "QmFqWamRube2"
      }
    },
    {
      "cell_type": "markdown",
      "source": [
        "##### 1. Why did you pick the specific chart?"
      ],
      "metadata": {
        "id": "iky9q4vBYrdO"
      }
    },
    {
      "cell_type": "markdown",
      "source": [
        "Show the counts of observations in each categorical bin using bars."
      ],
      "metadata": {
        "id": "aJRCwT6DYrdO"
      }
    },
    {
      "cell_type": "markdown",
      "source": [
        "##### 2. What is/are the insight(s) found from the chart?"
      ],
      "metadata": {
        "id": "F6T5p64dYrdO"
      }
    },
    {
      "cell_type": "markdown",
      "source": [
        "A) The most preferred meal type by the guests is BB(Bed and Breakfast)\n",
        "\n",
        "B) HB- (Half Board) and SC- (Self Catering) are equally preferred."
      ],
      "metadata": {
        "id": "Xx8WAJvtYrdO"
      }
    },
    {
      "cell_type": "markdown",
      "source": [
        "##### 3. Will the gained insights help creating a positive business impact? \n",
        "Are there any insights that lead to negative growth? Justify with specific reason."
      ],
      "metadata": {
        "id": "y-Ehk30pYrdP"
      }
    },
    {
      "cell_type": "markdown",
      "source": [
        "Yes, with the gained insights hotel owner may be able to switch to dynamic pricing models for their meal plans. Those meal plan with the highest demand can be charged little bit higher with added features, while those with less demand can be charged a bit lower, to attract the customers to avail that meal type.\n",
        "\n"
      ],
      "metadata": {
        "id": "jLNxxz7MYrdP"
      }
    },
    {
      "cell_type": "markdown",
      "source": [
        "**Chart-5 Which meal type has more adr?**"
      ],
      "metadata": {
        "id": "wWQOpFhaxYX3"
      }
    },
    {
      "cell_type": "code",
      "source": [
        "# Filter relevant columns for analysis\n",
        "columns_of_interest = ['meal', 'adr']\n",
        "filtered_data = data[columns_of_interest]\n",
        "\n",
        "# Group data by meal type and calculate average ADR\n",
        "grouped_data = filtered_data.groupby('meal')['adr'].mean().reset_index()\n",
        "\n",
        "# Sort the data by ADR in ascending order\n",
        "sorted_data = grouped_data.sort_values(by='adr', ascending=False)\n",
        "\n",
        "# Create the bar diagram\n",
        "plt.figure(figsize=(8, 6))\n",
        "plt.bar(sorted_data['meal'], sorted_data['adr'], color=['orange', 'red', 'blue', 'green'])\n",
        "\n",
        "# Customize the plot\n",
        "plt.xlabel('Meal Type')\n",
        "plt.ylabel('ADR')\n",
        "plt.title('ADR by Meal Type')\n",
        "\n",
        "# Display the plot\n",
        "plt.show()"
      ],
      "metadata": {
        "id": "F7bH8RvUxEFP"
      },
      "execution_count": null,
      "outputs": []
    },
    {
      "cell_type": "markdown",
      "source": [
        "##### 1. Why did you pick the specific chart?\n",
        "\n",
        "bar diagram to visualize the relationship between meal types and Average Daily Rate (ADR) in hotel booking analysis:\n",
        "\n",
        "##### 2. What is/are the insight(s) found from the chart?\n",
        "\n",
        "FB has a higher ADR and then HB has second heighest\n",
        "\n",
        "##### 3. Will the gained insights help creating a positive business impact? \n",
        "\n",
        " This diagram helps hotels visualize and compare the average daily rates (ADR) across different meal types. By identifying the ADR variations, hotels can adjust pricing strategies accordingly and Hotels can prioritize and optimize the offerings of meal types that attract higher ADR, providing guests with a better dining experience while controlling costs by focusing on popular options.\n"
      ],
      "metadata": {
        "id": "Ceyxqbed0tWK"
      }
    },
    {
      "cell_type": "markdown",
      "source": [
        "**Chart - 6 Which year had the highest bookings?**"
      ],
      "metadata": {
        "id": "bamQiAODYuh1"
      }
    },
    {
      "cell_type": "code",
      "source": [
        "# Chart - 5 visualization code\n",
        "# Setting the plot size\n",
        "plt.figure(figsize=(10,6))\n",
        "\n",
        "# Plotting with countplot\n",
        "list1=['hotel', 'arrival_date_year', 'arrival_date_month','arrival_date_day_of_month']\n",
        "arrival_overview = data[list1]\n",
        "sns.countplot(data =arrival_overview, x = 'arrival_date_year', hue = 'hotel').set_title('Customer arrival by year',fontsize=20)\n",
        "plt.xlabel('Years', fontsize = 14)\n",
        "plt.ylabel('Number of bookings',fontsize = 14)\n",
        "plt.show()"
      ],
      "metadata": {
        "id": "TIJwrbroYuh3"
      },
      "execution_count": null,
      "outputs": []
    },
    {
      "cell_type": "markdown",
      "source": [
        "##### 1. Why did you pick the specific chart?"
      ],
      "metadata": {
        "id": "QHF8YVU7Yuh3"
      }
    },
    {
      "cell_type": "markdown",
      "source": [
        "Show the counts of observations in each categorical bin using bars."
      ],
      "metadata": {
        "id": "dcxuIMRPYuh3"
      }
    },
    {
      "cell_type": "markdown",
      "source": [
        "##### 2. What is/are the insight(s) found from the chart?"
      ],
      "metadata": {
        "id": "GwzvFGzlYuh3"
      }
    },
    {
      "cell_type": "markdown",
      "source": [
        "As we can see that 2016 was the year where number of hotel booking was highest followed by total bookings in 2017 and 2015.\n",
        "\n",
        "Overall City hotel had the highest number of bookings compared with Resort Hotel.\n",
        "\n"
      ],
      "metadata": {
        "id": "uyqkiB8YYuh3"
      }
    },
    {
      "cell_type": "markdown",
      "source": [
        "##### 3. Will the gained insights help creating a positive business impact? \n",
        "Are there any insights that lead to negative growth? Justify with specific reason."
      ],
      "metadata": {
        "id": "qYpmQ266Yuh3"
      }
    },
    {
      "cell_type": "markdown",
      "source": [
        "\n",
        "Yes, Hotel owners should divert more of their resources on City hotels to maximise their profits, at the same time can try to attend to existing customers of Resort hotel."
      ],
      "metadata": {
        "id": "_WtzZ_hCYuh4"
      }
    },
    {
      "cell_type": "markdown",
      "source": [
        "**Chart - 7 In which month most of the bookings happened?**"
      ],
      "metadata": {
        "id": "OH-pJp9IphqM"
      }
    },
    {
      "cell_type": "code",
      "source": [
        "# Chart - 6 visualization code\n",
        "# groupby arrival_date_month and taking the hotel count\n",
        "bookings_by_months_df = data.groupby(['arrival_date_month'])['hotel'].count().reset_index().rename(columns={'hotel':\"Counts\"})\n",
        "# Creating list of months in order\n",
        "months = ['January', 'February', 'March', 'April', 'May', 'June', 'July', 'August', 'September', 'October', 'November', 'December']\n",
        "# creating df which will map the order of above months list without changing its values.\n",
        "bookings_by_months_df['arrival_date_month'] = pd.Categorical(bookings_by_months_df['arrival_date_month'],categories=months,ordered=True)\n",
        "# sorting by arrival_date_month\n",
        "bookings_by_months_df = bookings_by_months_df.sort_values('arrival_date_month')\n",
        "\n",
        "bookings_by_months_df\n",
        "     "
      ],
      "metadata": {
        "id": "kuRf4wtuphqN"
      },
      "execution_count": null,
      "outputs": []
    },
    {
      "cell_type": "code",
      "source": [
        "# Setting plot size\n",
        "plt.figure(figsize=(15,6))\n",
        "\n",
        "# Plotting lineplot on x-months & y-booking counts\n",
        "sns.lineplot(x=bookings_by_months_df['arrival_date_month'],y=bookings_by_months_df['Counts'])\n",
        "\n",
        "# Setting title for the plot\n",
        "plt.title('Number of bookings across each month',fontsize=25)\n",
        "# Setting x label\n",
        "plt.xlabel('Month',fontsize=20)\n",
        "# Setting y label\n",
        "plt.ylabel('Number of bookings',fontsize=20)"
      ],
      "metadata": {
        "id": "uJQ4TrP_wbn-"
      },
      "execution_count": null,
      "outputs": []
    },
    {
      "cell_type": "markdown",
      "source": [
        "##### 1. Why did you pick the specific chart?"
      ],
      "metadata": {
        "id": "bbFf2-_FphqN"
      }
    },
    {
      "cell_type": "markdown",
      "source": [
        "Line charts are used to represent the relation between two data X and Y on a different axis."
      ],
      "metadata": {
        "id": "loh7H2nzphqN"
      }
    },
    {
      "cell_type": "markdown",
      "source": [
        "##### 2. What is/are the insight(s) found from the chart?"
      ],
      "metadata": {
        "id": "_ouA3fa0phqN"
      }
    },
    {
      "cell_type": "markdown",
      "source": [
        "Peak visiting season is from mid June to August because of summer breaks in Europe\n",
        "Off season is from November to February because of cold weather throughout Europe"
      ],
      "metadata": {
        "id": "VECbqPI7phqN"
      }
    },
    {
      "cell_type": "markdown",
      "source": [
        "##### 3. Will the gained insights help creating a positive business impact? \n",
        "Are there any insights that lead to negative growth? Justify with specific reason."
      ],
      "metadata": {
        "id": "Seke61FWphqN"
      }
    },
    {
      "cell_type": "markdown",
      "source": [
        "Understanding the booking patterns across month helps the owners to predict their revenue more accurately By identifying the months with higher booking volumes and they can adjust their revenue management strategies."
      ],
      "metadata": {
        "id": "DW4_bGpfphqN"
      }
    },
    {
      "cell_type": "markdown",
      "source": [
        "**Chart-8 What is the trend of monthly adr for both hotels?**"
      ],
      "metadata": {
        "id": "68Su5DWardAp"
      }
    },
    {
      "cell_type": "code",
      "source": [
        "#calculating total booking\n",
        "confirmed_bookings = data[data['is_canceled'] == 0]\n",
        "plt.figure(figsize = (14, 5))\n",
        "#sorting by arrival _date_month\n",
        "months = confirmed_bookings['arrival_date_month'].unique()\n",
        "#plotting lineplot x_axis=month & Y_axis=adr\n",
        "sns.lineplot(x = 'arrival_date_month', \n",
        "            y = 'adr',\n",
        "            hue = 'hotel', \n",
        "            data = confirmed_bookings, \n",
        "\n",
        "            )\n",
        "plt.title('Monthly ADR')\n",
        "plt.xlabel('Months')\n",
        "plt.show()"
      ],
      "metadata": {
        "id": "1hWe-TZ3rObr"
      },
      "execution_count": null,
      "outputs": []
    },
    {
      "cell_type": "markdown",
      "source": [
        "##### 1. Why did you pick the specific chart?\n",
        "\n",
        "A line chart is a type of chart that shows information that changes over time. \n",
        "\n",
        "\n",
        "\n",
        "##### 2. What is/are the insight(s) found from the chart?\n",
        "The ADR fluctuates across months.August month has heighest ADR for Resort hotel and also city hotel.January month has lowest ADR for both the hotels for any specific reason.\n",
        "\n",
        "##### 3. Will the gained insights help creating a positive business impact? \n",
        "\n",
        "These insights can be used by hotel owners.Higher ADRs during peak months suggest increased demand and potential revenue opportunities.By analyzing ADR trends, hotels can identify periods of higher rates and strategically adjust pricing to maximize revenue."
      ],
      "metadata": {
        "id": "V1VHb9sGpF9K"
      }
    },
    {
      "cell_type": "markdown",
      "source": [
        "**Chart - 9 Which Distribution channel is mostly used for hotel bookings?**"
      ],
      "metadata": {
        "id": "PIIx-8_IphqN"
      }
    },
    {
      "cell_type": "code",
      "source": [
        "# Chart - 7 visualization\n",
        "# Creating labels\n",
        "labels = data['distribution_channel'].value_counts().index.tolist()\n",
        "\n",
        "# Creating new df of distribution channel\n",
        "distribution_channel_df= data['distribution_channel'].value_counts().reset_index().rename(columns={'index':\"distribution_channel\",'distribution_channel':'count'})\n",
        "\n",
        "# Adding percentage columns to the distribution_channel_df\n",
        "distribution_channel_df['percentage']=round(distribution_channel_df['count']*100/data.shape[0],1)\n",
        "\n",
        "# Creating list of percentage\n",
        "sizes=distribution_channel_df['percentage'].values.tolist()\n",
        "\n",
        "# Plotting the pie chart\n",
        "data['distribution_channel'].value_counts().plot.pie(explode=[0.05, 0.05,0.05,0.05,0.05], shadow=False, figsize=(15,8),fontsize=10,labels=None)   \n",
        "\n",
        "# Setting legends with the percentage values\n",
        "labels = [f'{l}, {s}%' for l, s in zip(labels, sizes)]\n",
        "plt.legend(bbox_to_anchor=(0.85, 1), loc='upper left', labels=labels)\n",
        "plt.title(' Mostly Used Distribution Channel for Hotel Bookings ')\n",
        "     "
      ],
      "metadata": {
        "id": "lqAIGUfyphqO"
      },
      "execution_count": null,
      "outputs": []
    },
    {
      "cell_type": "markdown",
      "source": [
        "##### 1. Why did you pick the specific chart?"
      ],
      "metadata": {
        "id": "t27r6nlMphqO"
      }
    },
    {
      "cell_type": "markdown",
      "source": [
        "Pie charts typically show relative proportions of different categories in a data set."
      ],
      "metadata": {
        "id": "iv6ro40sphqO"
      }
    },
    {
      "cell_type": "markdown",
      "source": [
        "##### 2. What is/are the insight(s) found from the chart?"
      ],
      "metadata": {
        "id": "r2jJGEOYphqO"
      }
    },
    {
      "cell_type": "markdown",
      "source": [
        "As we can see, Resort hotel and City hotel are getting most of bookings from travel agency and tour operators. May be in future they will be monopolize the entire booking channel."
      ],
      "metadata": {
        "id": "Po6ZPi4hphqO"
      }
    },
    {
      "cell_type": "markdown",
      "source": [
        "##### 3. Will the gained insights help creating a positive business impact? \n",
        "Are there any insights that lead to negative growth? Justify with specific reason."
      ],
      "metadata": {
        "id": "b0JNsNcRphqO"
      }
    },
    {
      "cell_type": "markdown",
      "source": [
        "Hence hotel owners should promote more in different market segments to beat the monopoly condition. They may also find ways to develop a strong partnership with the TA/TO to increase their bookings count."
      ],
      "metadata": {
        "id": "xvSq8iUTphqO"
      }
    },
    {
      "cell_type": "markdown",
      "source": [
        "**Chart - 10 What is the percentage of cancellation?**"
      ],
      "metadata": {
        "id": "BZR9WyysphqO"
      }
    },
    {
      "cell_type": "code",
      "source": [
        "# Chart - 8 visualisation\n",
        "# Plotting the pie chart\n",
        "data['is_canceled'].value_counts().plot.pie(explode=[0.05, 0.05], autopct='%1.1f%%', shadow=True, figsize=(10,8),fontsize=20)\n",
        "# Setting the title\n",
        "plt.title(\"Cancellation and non Cancellation\")"
      ],
      "metadata": {
        "id": "TdPTWpAVphqO"
      },
      "execution_count": null,
      "outputs": []
    },
    {
      "cell_type": "markdown",
      "source": [
        "**0 = Not cancelled**\n",
        "\n",
        "**1 = Cancelled**"
      ],
      "metadata": {
        "id": "T19_wv0bRTq-"
      }
    },
    {
      "cell_type": "markdown",
      "source": [
        "##### 1. Why did you pick the specific chart?"
      ],
      "metadata": {
        "id": "jj7wYXLtphqO"
      }
    },
    {
      "cell_type": "markdown",
      "source": [
        "Pie charts typically show relative proportions of different categories in a data set."
      ],
      "metadata": {
        "id": "Ob8u6rCTphqO"
      }
    },
    {
      "cell_type": "markdown",
      "source": [
        "##### 2. What is/are the insight(s) found from the chart?"
      ],
      "metadata": {
        "id": "eZrbJ2SmphqO"
      }
    },
    {
      "cell_type": "markdown",
      "source": [
        "27.5 % of the bookings were cancelled, while 72.5% were not cancelled."
      ],
      "metadata": {
        "id": "mZtgC_hjphqO"
      }
    },
    {
      "cell_type": "markdown",
      "source": [
        "##### 3. Will the gained insights help creating a positive business impact? \n",
        "Are there any insights that lead to negative growth? Justify with specific reason."
      ],
      "metadata": {
        "id": "rFu4xreNphqO"
      }
    },
    {
      "cell_type": "markdown",
      "source": [
        "Hotel owners should try to find out why did the customers, who has booked earlier, went on to cancel the booking. By taking their feedback through voice call or email, companies may know the reason. Accordingly they may change their strategy to counter such scenarios in the future."
      ],
      "metadata": {
        "id": "ey_0qi68phqO"
      }
    },
    {
      "cell_type": "markdown",
      "source": [
        "**Chart - 11 Which Agent made the most bookings?**"
      ],
      "metadata": {
        "id": "YJ55k-q6phqO"
      }
    },
    {
      "cell_type": "code",
      "source": [
        "# Chart - 9 visualization code\n",
        "# Return highest bookings made by agents\n",
        "highest_bookings = data.groupby(['agent'])['agent'].agg({'count'}).reset_index().rename(columns={'count': \"Most_Bookings\" }).sort_values(by='Most_Bookings',ascending=False)\n",
        "\n",
        "# As agent 0 was a NAN value, we replaced it with 0 which indicates no bookings. So decided to drop.\n",
        "highest_bookings.drop(highest_bookings[highest_bookings['agent']==0].index,inplace=True) \n",
        "\n",
        "# Taking into consideration top 10 agents \n",
        "top_ten_highest_bookings = highest_bookings[:10]\n",
        "\n",
        "top_ten_highest_bookings"
      ],
      "metadata": {
        "id": "B2aS4O1ophqO"
      },
      "execution_count": null,
      "outputs": []
    },
    {
      "cell_type": "code",
      "source": [
        "# Plotting the graph\n",
        "\n",
        "plt.figure(figsize=(16,6))\n",
        "sns.barplot(x=top_ten_highest_bookings['agent'],y=top_ten_highest_bookings['Most_Bookings'],order=top_ten_highest_bookings['agent'])\n",
        "plt.xlabel('Agent No',fontsize=20)\n",
        "plt.ylabel('Number of Bookings',fontsize=20)\n",
        "plt.title(\"Most Bookings Made by the agent\",fontsize=25)"
      ],
      "metadata": {
        "id": "4GSUKJpoSu7u"
      },
      "execution_count": null,
      "outputs": []
    },
    {
      "cell_type": "markdown",
      "source": [
        "##### 1. Why did you pick the specific chart?"
      ],
      "metadata": {
        "id": "gCFgpxoyphqP"
      }
    },
    {
      "cell_type": "markdown",
      "source": [
        "A bar plot shows catergorical data as rectangular bars with the height of bars proportional to the value they represent. It is often used to compare between values of different categories in the data."
      ],
      "metadata": {
        "id": "TVxDimi2phqP"
      }
    },
    {
      "cell_type": "markdown",
      "source": [
        "##### 2. What is/are the insight(s) found from the chart?"
      ],
      "metadata": {
        "id": "OVtJsKN_phqQ"
      }
    },
    {
      "cell_type": "markdown",
      "source": [
        "Agent ID No. 9.0 made most of the bookings, followed by 240.0"
      ],
      "metadata": {
        "id": "ngGi97qjphqQ"
      }
    },
    {
      "cell_type": "markdown",
      "source": [
        "##### 3. Will the gained insights help creating a positive business impact? \n",
        "Are there any insights that lead to negative growth? Justify with specific reason."
      ],
      "metadata": {
        "id": "lssrdh5qphqQ"
      }
    },
    {
      "cell_type": "markdown",
      "source": [
        "From the above insight, hotel owners may incentivise both the top two agents, while at the same time motivate others by organizing competitions."
      ],
      "metadata": {
        "id": "tBpY5ekJphqQ"
      }
    },
    {
      "cell_type": "markdown",
      "source": [
        "**Chart - 12 What is the percentage of repeated guests?**"
      ],
      "metadata": {
        "id": "U2RJ9gkRphqQ"
      }
    },
    {
      "cell_type": "code",
      "source": [
        "# Chart - 10 visualization code\n",
        "# Plotting a pie chart\n",
        "data['is_repeated_guest'].value_counts().plot.pie(explode=(0.05,0.05),autopct='%1.1f%%',shadow=True,figsize=(12,8),fontsize=20)\n",
        "# Creating the title\n",
        "plt.title(\" Percentage of repeated guests\",fontsize=20)"
      ],
      "metadata": {
        "id": "GM7a4YP4phqQ"
      },
      "execution_count": null,
      "outputs": []
    },
    {
      "cell_type": "markdown",
      "source": [
        "**0= Not Repeated** \n",
        "\n",
        "**1=Repeated**"
      ],
      "metadata": {
        "id": "N5J_aoHz6ywk"
      }
    },
    {
      "cell_type": "markdown",
      "source": [
        "##### 1. Why did you pick the specific chart?"
      ],
      "metadata": {
        "id": "1M8mcRywphqQ"
      }
    },
    {
      "cell_type": "markdown",
      "source": [
        "Pie charts typically show relative proportions of different categories in a data set"
      ],
      "metadata": {
        "id": "8agQvks0phqQ"
      }
    },
    {
      "cell_type": "markdown",
      "source": [
        "##### 2. What is/are the insight(s) found from the chart?"
      ],
      "metadata": {
        "id": "tgIPom80phqQ"
      }
    },
    {
      "cell_type": "markdown",
      "source": [
        "Repeated guests are very few which only comprise of 3.9 %."
      ],
      "metadata": {
        "id": "Qp13pnNzphqQ"
      }
    },
    {
      "cell_type": "markdown",
      "source": [
        "##### 3. Will the gained insights help creating a positive business impact? \n",
        "Are there any insights that lead to negative growth? Justify with specific reason."
      ],
      "metadata": {
        "id": "JMzcOPDDphqR"
      }
    },
    {
      "cell_type": "markdown",
      "source": [
        "Hotel owners, in order to retain the guests should take feedbacks from them and try to improve upon the services or provide something unique than their competitors"
      ],
      "metadata": {
        "id": "R4Ka1PC2phqR"
      }
    },
    {
      "cell_type": "markdown",
      "source": [
        "**Chart - 13 What is the Optimal length of stay in both types of hotels ?**"
      ],
      "metadata": {
        "id": "x-EpHcCOp1ci"
      }
    },
    {
      "cell_type": "code",
      "source": [
        "# Chart - 11 visualization code\n",
        "\n",
        "# Creating a not cancelled dataframe\n",
        "not_cancelled_df = data[data['is_canceled'] == 0]\n",
        "# Creating a hotel stay dataframe\n",
        "hotel_stay_df1 = not_cancelled_df[not_cancelled_df['total_stay'] <= 15]  #Visualizing pattern till 15days stay"
      ],
      "metadata": {
        "id": "mAQTIvtqp1cj"
      },
      "execution_count": null,
      "outputs": []
    },
    {
      "cell_type": "code",
      "source": [
        "# Setting plot size and plotting barchart\n",
        "plt.figure(figsize = (15,6))\n",
        "sns.countplot(x = hotel_stay_df1['total_stay'], hue = hotel_stay_df1['hotel'])\n",
        "\n",
        "# Adding the label of the chart\n",
        "plt.title('Preferred stay length in each Hotel',fontsize = 20 )\n",
        "plt.xlabel('Stay length in days', fontsize=14)\n",
        "plt.ylabel(\"Count of tourist's stay\", fontsize=14)\n",
        "plt.show()\n",
        "     "
      ],
      "metadata": {
        "id": "_vHXPNZWa66H"
      },
      "execution_count": null,
      "outputs": []
    },
    {
      "cell_type": "markdown",
      "source": [
        "##### 1. Why did you pick the specific chart?"
      ],
      "metadata": {
        "id": "X_VqEhTip1ck"
      }
    },
    {
      "cell_type": "markdown",
      "source": [
        "Show the counts of observations in each categorical bin using bars.\n",
        "\n"
      ],
      "metadata": {
        "id": "-vsMzt_np1ck"
      }
    },
    {
      "cell_type": "markdown",
      "source": [
        "##### 2. What is/are the insight(s) found from the chart?"
      ],
      "metadata": {
        "id": "8zGJKyg5p1ck"
      }
    },
    {
      "cell_type": "markdown",
      "source": [
        "Guest prefer 1-4 days when staying in City Hotels.\n",
        "\n",
        "Guest prefer 1-4 days when staying in Resort Hotels as well, while 7 days stay is also a popular choice among guests."
      ],
      "metadata": {
        "id": "ZYdMsrqVp1ck"
      }
    },
    {
      "cell_type": "markdown",
      "source": [
        "##### 3. Will the gained insights help creating a positive business impact? \n",
        "Are there any insights that lead to negative growth? Justify with specific reason."
      ],
      "metadata": {
        "id": "PVzmfK_Ep1ck"
      }
    },
    {
      "cell_type": "markdown",
      "source": [
        "Yes, from the above insight, hotel owners may bring in more packages targeting the 1-4 days group. In case of Resort hotel, 7 days packages could be continued looking at their popularity among customers."
      ],
      "metadata": {
        "id": "druuKYZpp1ck"
      }
    },
    {
      "cell_type": "markdown",
      "source": [
        "**Chart - 14 Which type of hotel is mostly preferred by the guests?**"
      ],
      "metadata": {
        "id": "4ij1AjnAZVJU"
      }
    },
    {
      "cell_type": "code",
      "source": [
        "#Chart-12 Visualization Code\n",
        "hotel_counts = data.groupby('hotel')['is_canceled'].count()\n",
        "hotel_counts = hotel_counts.sort_values(ascending=False)\n",
        "most_preferred_hotel = hotel_counts.index[0]\n",
        "\n",
        "hotel_adr = data.groupby('hotel')['adr'].mean()\n",
        "hotel_adr = hotel_adr.sort_values(ascending=False)\n",
        "\n",
        "fig, axes = plt.subplots(nrows=1, ncols=2, figsize=(8, 4))\n",
        "colors = ['g', 'blueviolet']\n",
        "\n",
        "hotel_counts.plot(kind='pie', ax=axes[0],colors=colors, autopct='%1.1f%%', startangle=100, \n",
        "                  title='Most Preferred Hotel')\n",
        "\n",
        "hotel_adr.plot(kind='pie', ax=axes[1],colors=colors, autopct='%1.1f%%', startangle=95, \n",
        "               title='ADR per Hotel')\n",
        "\n",
        "fig.suptitle('Hotel Booking Analysis', fontsize=14, fontweight='bold')\n",
        "\n",
        "plt.show()"
      ],
      "metadata": {
        "id": "XNvVvrCRZLsx"
      },
      "execution_count": null,
      "outputs": []
    },
    {
      "cell_type": "markdown",
      "source": [
        "\n",
        "**1.Why did you pick the specific chart?**\n",
        "\n",
        " Pie charts typically show relative proportions of different categories in a data set.\n",
        "\n",
        "**2. What is/are the insight(s) found from the chart?**\n",
        "\n",
        " Majority of the guest prefer City Hotel over Resort Hotel. As guests prefer city hotel then definately city hotel has more adr than resort hotel\n",
        "\n",
        "**3. Will the gained insights help creating a positive business impact?**\n",
        "\n",
        "Yes, because it will help business owners in deciding on which hotel type to invest their money in to gain maximum financial leverage."
      ],
      "metadata": {
        "id": "cW4nStDydLQO"
      }
    },
    {
      "cell_type": "markdown",
      "source": [
        "**Chart - 15 - Which distribution channel contributed more to ADR in order to increase the income ?**"
      ],
      "metadata": {
        "id": "n3dbpmDWp1ck"
      }
    },
    {
      "cell_type": "code",
      "source": [
        "# Chart - 12 visualization code\n",
        "# Groupby distribution channel and hotel\n",
        "bar_chart = data.groupby(['hotel','distribution_channel'])['adr'].count().unstack().transpose().fillna(0)\n",
        "bar_chart.drop('Undefined',axis =0, inplace = True)\n",
        "# Displaying the bar_chart DataFrame\n",
        "bar_chart\n",
        "     "
      ],
      "metadata": {
        "id": "bwevp1tKp1ck"
      },
      "execution_count": null,
      "outputs": []
    },
    {
      "cell_type": "code",
      "source": [
        "# Plotting bar chart for distribution channel of both hotels by average daily rate\n",
        "ax =  bar_chart.plot(kind = \"barh\",figsize=(10,6))\n",
        "ax.legend(bbox_to_anchor=(1,1))\n",
        "\n",
        "# Adding the label of the chart\n",
        "ax.yaxis.set_label_text(\"Market segment\", fontsize = 14)\n",
        "ax.xaxis.set_label_text(\"Average daily Rate\", fontsize = 14)\n",
        "ax.set_title(\"Market segment wise ADR\", fontsize = 20)\n",
        "\n",
        "# Displaying the chart \n",
        "plt.show()"
      ],
      "metadata": {
        "id": "SmYkYx3sbulw"
      },
      "execution_count": null,
      "outputs": []
    },
    {
      "cell_type": "markdown",
      "source": [
        "**Corporate** - These are corporate hotel booking companies which makes bookings\n",
        "possible.\n",
        "\n",
        "**GDS** - A GDS is a worldwide conduit between travel bookers and suppliers, such as hotels and other accommodation providers. It communicates live products, price and availability data to travel agents and online booking engines, and allows for automated transactions.\n",
        "\n",
        "**Direct**- The bookings which are directly made with the respective hotels.\n",
        "\n",
        "**TA/TO**- The bookings which are made through travel agents or tour operators."
      ],
      "metadata": {
        "id": "IRvrQPmmewOA"
      }
    },
    {
      "cell_type": "markdown",
      "source": [
        "##### 1. Why did you pick the specific chart?"
      ],
      "metadata": {
        "id": "ylSl6qgtp1ck"
      }
    },
    {
      "cell_type": "markdown",
      "source": [
        "A bar chart describes the comparisons between the discrete categories. One of the axis of the plot represents the specific categories being compared, while the other axis represents the measured values corresponding to those categories."
      ],
      "metadata": {
        "id": "m2xqNkiQp1ck"
      }
    },
    {
      "cell_type": "markdown",
      "source": [
        "##### 2. What is/are the insight(s) found from the chart?"
      ],
      "metadata": {
        "id": "ZWILFDl5p1ck"
      }
    },
    {
      "cell_type": "markdown",
      "source": [
        "From the chart is clear that :\n",
        "\n",
        "'Direct' and 'TA/TO' channel has almost equally contributed in ADR in both type of hotels i.e. 'City Hotel' and 'Resort Hotel'. While 'TA/TO' dominates the chart in terms of total ADR.\n",
        "\n",
        "GDS has slightly contributed in adr in 'City Hotel' type.\n",
        "\n",
        "Corporate booking channel has also contributed to the ADR."
      ],
      "metadata": {
        "id": "x-lUsV2mp1ck"
      }
    },
    {
      "cell_type": "markdown",
      "source": [
        "##### 3. Will the gained insights help creating a positive business impact? \n",
        "Are there any insights that lead to negative growth? Justify with specific reason."
      ],
      "metadata": {
        "id": "M7G43BXep1ck"
      }
    },
    {
      "cell_type": "markdown",
      "source": [
        "Analyzing adr for this segment helps hotels evaluate the effectiveness of their pricing strategies on different booking channels and identify ant comission-related impact on rates.\n",
        "\n",
        "Hotel owners should tie up with TA/TO partners, to increase their market share."
      ],
      "metadata": {
        "id": "5wwDJXsLp1cl"
      }
    },
    {
      "cell_type": "markdown",
      "source": [
        "**Chart-16 Which type of meal top 5 country guests prefer**"
      ],
      "metadata": {
        "id": "wSm0TN8fsEq3"
      }
    },
    {
      "cell_type": "code",
      "source": [
        "#Chart-14 visualization code\n",
        "# Use groupby() to group the data by country and meal type\n",
        "grouped = data.groupby(['country', 'meal']).size().reset_index(name='count')\n",
        "\n",
        "# Calculate the count of each meal type for each country\n",
        "pivot = grouped.pivot(index='country', columns='meal', values='count')\n",
        "\n",
        "# Sort the data by count in descending order and select the top 5 countries\n",
        "top_5_countries = pivot.sum(axis=1).nlargest(5).index.tolist()\n",
        "\n",
        "# Subset the data to only include the top 5 countries\n",
        "subset = pivot.loc[top_5_countries]\n",
        "\n",
        "# Visualize the data using a bar chart\n",
        "subset.plot(kind='bar', stacked=True)\n",
        "plt.xlabel('Country')\n",
        "plt.ylabel('Count')\n",
        "plt.title('Most preferred meal for top 5 countries')\n",
        "plt.show()\n"
      ],
      "metadata": {
        "id": "EA-w_Pqq00m1"
      },
      "execution_count": null,
      "outputs": []
    },
    {
      "cell_type": "markdown",
      "source": [
        "##### 1. Why did you pick the specific chart?\n",
        "\n",
        "The stacked bar chart is a popular visual aid used for categorizing and comparing the parts of a whole.Different colors are used to illustrate the different categories in the bar.\n",
        "\n",
        "\n",
        "##### 2. What is/are the insight(s) found from the chart?\n",
        "\n",
        "Here we can see most prefered meal type among top 5 countries and BB and FB are mostly prefered.As we know portugal's guests prefer mostly BB then HB.\n",
        "\n",
        "\n",
        "##### 3. Will the gained insights help creating a positive business impact? \n",
        "\n",
        "This information will help hotel owners a lot.Food is basic need so its good to know that what is the most prefered meal by top most country guests."
      ],
      "metadata": {
        "id": "-2IoUU9c1Vt-"
      }
    },
    {
      "cell_type": "code",
      "source": [
        "\n",
        "\n",
        "\n",
        "# Create a new column \"booking_type\" that categorizes the booking as \"Single\", \"Couple\", or \"Family\"\n",
        "data.loc[data['total_people'] == 1, 'booking_type'] = 'Single'\n",
        "data.loc[data['total_people'] == 2, 'booking_type'] = 'Couple'\n",
        "data.loc[data['total_people'] > 2, 'booking_type'] = 'Family'\n",
        "\n",
        "# Group the DataFrame by the \"booking_type\" column and count the number of bookings in each category\n",
        "booking_type_counts = data.groupby('booking_type').size().reset_index(name='num_bookings')\n",
        "\n"
      ],
      "metadata": {
        "id": "Oyy8GUq_JIQU"
      },
      "execution_count": null,
      "outputs": []
    },
    {
      "cell_type": "markdown",
      "source": [
        "**Chart-17 Which type of guests arrive mostly?**"
      ],
      "metadata": {
        "id": "OwAuWw4_mNfY"
      }
    },
    {
      "cell_type": "code",
      "source": [
        "\n",
        "# Group the DataFrame by the \"hotel\" and \"booking_type\" columns and count the number of bookings in each category\n",
        "booking_type_counts = data.groupby(['hotel', 'booking_type']).size().reset_index(name='num_bookings')\n",
        "\n",
        "# Create a new DataFrame that combines the counts for both hotels\n",
        "combined_counts = booking_type_counts.pivot(index='booking_type', columns='hotel', values='num_bookings')\n",
        "\n",
        "# Create a bar chart using the combined DataFrame\n",
        "ax = combined_counts.plot(kind='bar')\n",
        "ax.set_xlabel('Booking Type')\n",
        "ax.set_ylabel('Number of Bookings')\n",
        "ax.set_title('Hotel Bookings by Type')\n",
        "plt.show()\n"
      ],
      "metadata": {
        "id": "7O5GeN5GKuVf"
      },
      "execution_count": null,
      "outputs": []
    },
    {
      "cell_type": "markdown",
      "source": [
        "1. Why did you pick the specific chart?\n",
        "\n",
        "A bar plot shows catergorical data as rectangular bars with the height of bars proportional to the value they represent. It is often used to compare between values of different categories in the data.\n",
        "\n",
        "2.   What is/are the insight(s) found from the chart?\n",
        "City Hotel is the preferred Hotel among Couple, Family and Single.\n",
        "Quantity wise couples book both hotel rooms and resort room more than family and Singles.\n",
        "\n",
        "3. Will the gained insights help creating a positive business impact?\n",
        "\n",
        "Hotel oweners should start giving Family friendly environment and functions to attract more families and singles to their respective hotels.\n",
        "\n",
        "\n",
        "\n",
        "\n"
      ],
      "metadata": {
        "id": "JMQWRrGf50jg"
      }
    },
    {
      "cell_type": "markdown",
      "source": [
        "**chart-18 Which guests need more parking spaces?**"
      ],
      "metadata": {
        "id": "e8nwnr17mtch"
      }
    },
    {
      "cell_type": "code",
      "source": [
        "# Group the DataFrame by the \"hotel\" and \"booking_type\" columns and sum the \"required_car_parking_spaces\" column for each category\n",
        "parking_counts = data.groupby(['hotel', 'booking_type'])['required_car_parking_spaces'].sum().reset_index(name='num_parking')\n",
        "\n",
        "# Create a new DataFrame that combines the totals for both hotels\n",
        "combined_counts = parking_counts.pivot(index='booking_type', columns='hotel', values='num_parking')\n",
        "\n",
        "# Create a bar plot using the combined DataFrame\n",
        "ax = combined_counts.plot(kind='bar')\n",
        "ax.set_xlabel('Booking Type')\n",
        "ax.set_ylabel('Number of Parking Spaces Required')\n",
        "ax.set_title('Parking Requirements vs Booking Type')\n",
        "plt.show()\n"
      ],
      "metadata": {
        "id": "3jt0zuXUP1pC"
      },
      "execution_count": null,
      "outputs": []
    },
    {
      "cell_type": "markdown",
      "source": [
        "1. Why did you pick the specific chart?\n",
        "\n",
        "A bar plot shows catergorical data as rectangular bars with the height of bars proportional to the value they represent. It is often used to compare between values of different categories in the data.\n",
        "\n",
        "2. What is/are the insight(s) found from the chart?\n",
        "Resort hotel couples demands more for parking spaces.\n",
        "\n",
        "\n",
        "3. Will the gained insights help creating a positive business impact?\n",
        "\n",
        "Hotel oweners should start giving Family friendly environment and functions to attract more families and singles to their respective hotels.\n",
        "Resort hotel guests need more parking spaces so that owners can provide optimum parking spaces accordingly."
      ],
      "metadata": {
        "id": "5ocPZlmb2zDt"
      }
    },
    {
      "cell_type": "markdown",
      "source": [
        "#### Chart - 19 - Correlation Heatmap"
      ],
      "metadata": {
        "id": "NC_X3p0fY2L0"
      }
    },
    {
      "cell_type": "code",
      "source": [
        "# Correlation Heatmap visualization code\n",
        "# Aggregation of guest's monthly bookings which were checked out\n",
        "not_cancelled_df = data[data['is_canceled'] == 0]\n",
        "checked_out = not_cancelled_df.groupby(['arrival_month'], as_index=False).agg({'is_canceled':'count',\n",
        "                                                                     'adr':'mean',\n",
        "                                                                     'total_stay':'sum',\n",
        "                                                                     'required_car_parking_spaces':'sum',\n",
        "                                                                     'is_repeated_guest':'sum'})\n",
        "\n",
        "# Guest who cancelled their booking\n",
        "canceled_df = data.loc[data['reservation_status']=='Canceled',['arrival_month','reservation_status']]\n",
        "canceled_df.replace('Canceled',1, inplace=True)\n",
        "canceled = canceled_df.groupby(['arrival_month'], as_index=False)['reservation_status'].sum()"
      ],
      "metadata": {
        "id": "xyC9zolEZNRQ"
      },
      "execution_count": null,
      "outputs": []
    },
    {
      "cell_type": "code",
      "source": [
        "\n",
        "# Merging Cancelled and Non-cancelled dataset based on Month\n",
        "merge_df = pd.merge(checked_out,canceled, how = 'inner', on = ['arrival_month'])\n",
        "merge_df.rename(columns={'is_canceled':'Booking Count',\n",
        "                         'adr':'Price',\n",
        "                         'total_stay':'Total stay',\n",
        "                         'reservation_status':'Cancellation',\n",
        "                         'is_repeated_guest':'Repeated Customer',\n",
        "                         'required_car_parking_spaces':'Parking Spaces'},inplace=True)"
      ],
      "metadata": {
        "id": "28_UumMRgEVa"
      },
      "execution_count": null,
      "outputs": []
    },
    {
      "cell_type": "code",
      "source": [
        "\n",
        "# Plotting correlation heatmap for different booking criteria\n",
        "plt.figure(figsize=(14,7))\n",
        "sns.heatmap(merge_df[['Booking Count','Price','Total stay','Cancellation','Repeated Customer','Parking Spaces']].corr(),vmin=-1,annot=True, annot_kws={\"size\":13})\n",
        "\n",
        "plt.title('Co-relation of the columns', fontsize=20)\n",
        "plt.xticks(fontsize=11)\n",
        "plt.yticks(fontsize=11,rotation=0)\n",
        "plt.show()"
      ],
      "metadata": {
        "id": "cPl_1wVPgFd6"
      },
      "execution_count": null,
      "outputs": []
    },
    {
      "cell_type": "markdown",
      "source": [
        "##### 1. Why did you pick the specific chart?"
      ],
      "metadata": {
        "id": "UV0SzAkaZNRQ"
      }
    },
    {
      "cell_type": "markdown",
      "source": [
        "Correlation heatmaps was used to find potential relationships between variables and to understand the strength of th"
      ],
      "metadata": {
        "id": "DVPuT8LYZNRQ"
      }
    },
    {
      "cell_type": "markdown",
      "source": [
        "##### 2. What is/are the insight(s) found from the chart?"
      ],
      "metadata": {
        "id": "YPEH6qLeZNRQ"
      }
    },
    {
      "cell_type": "markdown",
      "source": [
        "There is a high positive correlation between Booking and Pricing, Total Stay, Cancellations and Parking spaces, where as negative correlation with Repeated guests\n",
        "\n",
        "Increase in Pricing leads to repeated Customers not visiting again\n",
        "\n",
        "There is firm correlation between Parking space and Cancellation inferring that people are more likely to cancel their booking if Parking space is not available.\n",
        "\n",
        "\n",
        "3. Will the gained insights help creating a positive business impact?\n",
        "\n",
        "This pearson's correlation shows the linear relationship between two variables.It is emphasized that correlation does not imply causation but it can reveal valuable insights for decision making.\n",
        "\n",
        "The correlation analysis of hotel booking reveals valuable insights and pattern in data by understanding relationship between different factors."
      ],
      "metadata": {
        "id": "bfSqtnDqZNRR"
      }
    },
    {
      "cell_type": "markdown",
      "source": [
        "## **5. Solution to Business Objective**"
      ],
      "metadata": {
        "id": "JcMwzZxoAimU"
      }
    },
    {
      "cell_type": "markdown",
      "source": [
        "#### Revenue Optimization: One of the primary objectives of hotel booking analysis is to maximize revenue. By analyzing booking data, hotels can identify pricing patterns, demand trends, and customer preferences to optimize pricing strategies, implement dynamic pricing models, and identify opportunities for upselling or cross-selling additional services.\n",
        "\n",
        "* Customer Experience Enhancement: Understanding customer booking behaviors, preferences, and satisfaction levels is crucial for delivering exceptional guest experiences. By analyzing booking data, hotels can identify patterns and trends that influence customer satisfaction and tailor their services accordingly. This includes personalizing offerings, improving amenities, and providing a seamless and personalized booking process.\n",
        "\n",
        "* Operational Efficiency: Hotel booking analysis helps hotels optimize their operations by analyzing booking patterns, occupancy rates, and resource utilization. By identifying peak periods, demand fluctuations, and occupancy trends, hotels can effectively manage their inventory, optimize staffing levels, and streamline operations. This improves overall operational efficiency and reduces costs.\n",
        "\n",
        "* Marketing and Sales Strategy Optimization: Analyzing booking data provides insights into the effectiveness of marketing and sales strategies. Hotels can identify the most successful marketing channels, campaigns, and promotions by analyzing booking patterns and customer acquisition sources. This allows hotels to optimize their marketing efforts, allocate budgets efficiently, and target the right audience with personalized messages.\n",
        "\n",
        "* Competitive Advantage: Hotel booking analysis enables hotels to stay competitive by monitoring market trends, benchmarking performance against competitors, and identifying emerging market opportunities. By analyzing booking data and customer reviews, hotels can identify gaps in the market, differentiate their offerings, and make data-driven decisions to gain a competitive edge.\n",
        "\n",
        "* Risk Management and Fraud Detection: Hotel booking analysis helps identify potential risks and fraudulent activities. By monitoring booking patterns, detecting anomalies, and analyzing customer behavior, hotels can implement effective risk management strategies, detect fraud, and protect their business and customers.\n",
        "\n"
      ],
      "metadata": {
        "id": "8G2x9gOozGDZ"
      }
    },
    {
      "cell_type": "markdown",
      "source": [
        "# **Conclusion**"
      ],
      "metadata": {
        "id": "gCX9965dhzqZ"
      }
    },
    {
      "cell_type": "markdown",
      "source": [
        "\n",
        "*   **Majority (61%) of the guests prefer City Hotel over Resort Hotel. Most of guest visiting these hotels are from European countries namely Portugal, Britain, France, Spain and Germany totaling to 75% of total booking count**.\n",
        "\n",
        "*   **Majority of the guests are couple type and city hotel is most preferred hotel.Resort hotel guests demand more parking spaces than city hotel guests**  \n",
        "\n",
        "*   **2016 observed the highest booking reservations. From Booking trend it can be inferred that Peak visiting season is from mid June to August because of summer breaks in Europe while November to February is off season because of freezing cold weather throughout Europe.**\n",
        "\n",
        "*   **Around 11.5% of total reservations throughout year are coming from August whereas January has the least reservation of mere 5%. Guests can consider visiting these hotels during month of June and September to enjoy decent weather with almost full availability of hotels accommodation.**\n",
        "\n",
        "*  **Inspecting different market segments, it was concluded that travel agency holds monopoly as both hotels are getting the most of booking from travel agency (around 79%). Hotel owners should consider promoting their hotels more in different market segments to penetrate market more.**\n",
        "\n",
        "*   **Interestingly, most of the Cancellations for both Hotels are from Travel agency (TA/TO) segment inferring that it is volatile market segment. Also, a very small proportion of guest booking via Travel agency do not showing up at Hotel. Guest visiting both Hotels directly and via Corporate are less likely to cancel their booking.**\n",
        "\n",
        "*   **There is high positive correlation between Booking, Pricing, Total Stay, Cancellations and Parking spaces whereas negative correlation with Repeated guests. With increase in Booking --> Pricing, Total stay and Parking spaces occupation increases but increase in Pricing leads to repeated Customers not visiting again.**\n",
        "\n",
        "*   **There is firm correlation between Parking space and Cancellation inferring that people are more likely to cancel their booking if Parking space is not available.**\n",
        "\n",
        "*   **Only 3.9 % people revisited the hotels. Rest 96.1 % were new guests. Thus retention rate is low.**\n",
        "*   **Ideally guest prefer to stay 1-4 days in both hotels but 7 days stay at Resort hotel is also a popular choice among guests.**\n",
        "\n",
        "\n",
        "\n",
        "\n",
        "\n",
        "\n",
        "\n",
        "\n",
        "\n",
        "\n"
      ],
      "metadata": {
        "id": "Fjb1IsQkh3yE"
      }
    }
  ]
}